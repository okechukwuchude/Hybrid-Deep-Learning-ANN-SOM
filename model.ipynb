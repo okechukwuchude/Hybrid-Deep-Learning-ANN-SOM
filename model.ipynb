{
 "cells": [
  {
   "cell_type": "code",
   "execution_count": 1,
   "id": "84d01ed4-c42c-4923-8c6d-adcef9882058",
   "metadata": {},
   "outputs": [],
   "source": [
    "\"\"\"### Importing the libraries\"\"\"\n",
    "\n",
    "import numpy as np\n",
    "import pandas as pd\n",
    "import matplotlib.pyplot as plt"
   ]
  },
  {
   "cell_type": "code",
   "execution_count": 3,
   "id": "ebbf5aa2-3bc6-42f6-9456-38bab194a90d",
   "metadata": {},
   "outputs": [],
   "source": [
    "\"\"\"## Importing the dataset\"\"\"\n",
    "data = pd.read_csv(r\"C:\\Users\\okechukwu chude\\Documents\\Neural Network\\Self-organising-map\\Credit_Card_Applications.csv\")"
   ]
  },
  {
   "cell_type": "code",
   "execution_count": null,
   "id": "ad766bf2-bd42-4aa8-b989-066044fe6678",
   "metadata": {},
   "outputs": [],
   "source": []
  }
 ],
 "metadata": {
  "kernelspec": {
   "display_name": "Python 3 (ipykernel)",
   "language": "python",
   "name": "python3"
  },
  "language_info": {
   "codemirror_mode": {
    "name": "ipython",
    "version": 3
   },
   "file_extension": ".py",
   "mimetype": "text/x-python",
   "name": "python",
   "nbconvert_exporter": "python",
   "pygments_lexer": "ipython3",
   "version": "3.11.4"
  }
 },
 "nbformat": 4,
 "nbformat_minor": 5
}
